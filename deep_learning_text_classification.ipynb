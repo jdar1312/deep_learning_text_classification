{
 "cells": [
  {
   "cell_type": "markdown",
   "metadata": {
    "id": "KvjVN0SEo8sk"
   },
   "source": [
    "# DSM150-2022-OCT CW2\n",
    "<i>Jude Darmanin</i>\n",
    "\n",
    "---------\n"
   ]
  },
  {
   "cell_type": "markdown",
   "metadata": {
    "id": "6S_2W-evpA_J"
   },
   "source": [
    "In this coursework I will be comparing the performance of different network on a text classification datasets. More specifically, I will attempt to build and tune an LSTM network and test how this more complex network compares to a simple baseline RNN network, as well as to a simple 1D convnet. \n",
    "\n",
    "The structure of the following notebook is based on the machine learning workflow outlined in Chollet (2018)."
   ]
  },
  {
   "cell_type": "markdown",
   "metadata": {
    "id": "6McFRQZrpo6S"
   },
   "source": [
    "##**Dataset**"
   ]
  },
  {
   "cell_type": "markdown",
   "metadata": {
    "id": "N358zps5pvnD"
   },
   "source": [
    "The chosen dataset is an e-commerce text classification obtained from Kaggle (https://www.kaggle.com/datasets/saurabhshahane/ecommerce-text-classification).  The datasets consists of two columns, a class name and a text description, for products listed on an e-commerce website. There are multiple classes, so the task at hand is a single-label, multi-class classification problem. The dataset is in csv format.\n",
    "\n",
    "The below code loads the required modules."
   ]
  },
  {
   "cell_type": "code",
   "execution_count": null,
   "metadata": {
    "colab": {
     "base_uri": "https://localhost:8080/"
    },
    "id": "QcgexcyGpGai",
    "outputId": "bee4c46d-32a7-4d6d-ce19-5c5601d24597"
   },
   "outputs": [
    {
     "name": "stderr",
     "output_type": "stream",
     "text": [
      "[nltk_data] Downloading package stopwords to /root/nltk_data...\n",
      "[nltk_data]   Unzipping corpora/stopwords.zip.\n",
      "[nltk_data] Downloading package words to /root/nltk_data...\n",
      "[nltk_data]   Unzipping corpora/words.zip.\n",
      "[nltk_data] Downloading package punkt to /root/nltk_data...\n",
      "[nltk_data]   Unzipping tokenizers/punkt.zip.\n",
      "[nltk_data] Downloading package wordnet to /root/nltk_data...\n",
      "[nltk_data] Downloading package omw-1.4 to /root/nltk_data...\n"
     ]
    }
   ],
   "source": [
    "import numpy as np\n",
    "import pandas as pd\n",
    "import numpy as np\n",
    "import matplotlib.pyplot as plt\n",
    "import re\n",
    "import os\n",
    "import itertools\n",
    "import random\n",
    "from sklearn.utils import compute_class_weight\n",
    "\n",
    "#NLP modules\n",
    "import nltk\n",
    "from nltk.corpus import stopwords\n",
    "from nltk.stem import WordNetLemmatizer\n",
    "from nltk.tokenize import word_tokenize\n",
    "nltk.download('stopwords')\n",
    "nltk.download('words')\n",
    "nltk.download('punkt')\n",
    "nltk.download('wordnet')\n",
    "nltk.download('omw-1.4')\n",
    "\n",
    "#Keras and TF modules\n",
    "import tensorflow as tf\n",
    "from tensorflow.keras import preprocessing\n",
    "from tensorflow.keras.preprocessing.text import Tokenizer\n",
    "from sklearn.preprocessing import LabelEncoder\n",
    "from tensorflow.keras.models import Sequential\n",
    "from tensorflow.keras.layers import Flatten, Dense, Embedding, SimpleRNN, LSTM, Dropout, Bidirectional, Conv1D\n",
    "\n",
    "#libraries for the downloading files from Google Drive\n",
    "from pydrive.auth import GoogleAuth\n",
    "from google.colab import drive\n",
    "from pydrive.drive import GoogleDrive\n",
    "from google.colab import auth\n",
    "from oauth2client.client import GoogleCredentials"
   ]
  },
  {
   "cell_type": "markdown",
   "metadata": {
    "id": "aAHSyqI1rJay"
   },
   "source": [
    "The dataset was downloaded from Kaggle and saved in my personal Google Drive. The below code downloads the dataset from Google Drive into the notebook."
   ]
  },
  {
   "cell_type": "code",
   "execution_count": null,
   "metadata": {
    "id": "F1yOZ5-jq61q"
   },
   "outputs": [],
   "source": [
    "#helper function\n",
    "def gdrive_download(id):\n",
    "  '''\n",
    "  Function to download files from Google Drive\n",
    "  id (string) = id of file on Google Drive\n",
    "  Returns downloaded file.\n",
    "  '''\n",
    "  auth.authenticate_user()\n",
    "  gauth = GoogleAuth()\n",
    "  gauth.credentials = GoogleCredentials.get_application_default()\n",
    "  drive = GoogleDrive(gauth)\n",
    "\n",
    "  file_id = id\n",
    "\n",
    "  #download file\n",
    "  download = drive.CreateFile({'id': file_id})\n",
    "  return download"
   ]
  },
  {
   "cell_type": "code",
   "execution_count": null,
   "metadata": {
    "id": "L4avnQnyrgaD"
   },
   "outputs": [],
   "source": [
    "#downloading data\n",
    "download_data = gdrive_download('1KoZU3nN001JakVeZuBUFccQRTYe5O0wt') #this file id is specific to the dataset csv stored on personal Google Drive\n",
    "download_data.GetContentFile('file.csv')\n",
    "raw_data  = pd.read_csv('file.csv', header=None)"
   ]
  },
  {
   "cell_type": "markdown",
   "metadata": {
    "id": "4rXYk0-hr5b-"
   },
   "source": [
    "##**Data Overview**"
   ]
  },
  {
   "cell_type": "code",
   "execution_count": null,
   "metadata": {
    "colab": {
     "base_uri": "https://localhost:8080/",
     "height": 206
    },
    "id": "GS20Pulzp7Ia",
    "outputId": "4d43b889-cfad-48ba-badd-db40b694c75c"
   },
   "outputs": [
    {
     "data": {
      "text/html": [
       "\n",
       "  <div id=\"df-1e6a582c-220a-4c53-b980-b9551fbe75dd\">\n",
       "    <div class=\"colab-df-container\">\n",
       "      <div>\n",
       "<style scoped>\n",
       "    .dataframe tbody tr th:only-of-type {\n",
       "        vertical-align: middle;\n",
       "    }\n",
       "\n",
       "    .dataframe tbody tr th {\n",
       "        vertical-align: top;\n",
       "    }\n",
       "\n",
       "    .dataframe thead th {\n",
       "        text-align: right;\n",
       "    }\n",
       "</style>\n",
       "<table border=\"1\" class=\"dataframe\">\n",
       "  <thead>\n",
       "    <tr style=\"text-align: right;\">\n",
       "      <th></th>\n",
       "      <th>Class</th>\n",
       "      <th>Description</th>\n",
       "    </tr>\n",
       "  </thead>\n",
       "  <tbody>\n",
       "    <tr>\n",
       "      <th>0</th>\n",
       "      <td>Household</td>\n",
       "      <td>Paper Plane Design Framed Wall Hanging Motivat...</td>\n",
       "    </tr>\n",
       "    <tr>\n",
       "      <th>1</th>\n",
       "      <td>Household</td>\n",
       "      <td>SAF 'Floral' Framed Painting (Wood, 30 inch x ...</td>\n",
       "    </tr>\n",
       "    <tr>\n",
       "      <th>2</th>\n",
       "      <td>Household</td>\n",
       "      <td>SAF 'UV Textured Modern Art Print Framed' Pain...</td>\n",
       "    </tr>\n",
       "    <tr>\n",
       "      <th>3</th>\n",
       "      <td>Household</td>\n",
       "      <td>SAF Flower Print Framed Painting (Synthetic, 1...</td>\n",
       "    </tr>\n",
       "    <tr>\n",
       "      <th>4</th>\n",
       "      <td>Household</td>\n",
       "      <td>Incredible Gifts India Wooden Happy Birthday U...</td>\n",
       "    </tr>\n",
       "  </tbody>\n",
       "</table>\n",
       "</div>\n",
       "      <button class=\"colab-df-convert\" onclick=\"convertToInteractive('df-1e6a582c-220a-4c53-b980-b9551fbe75dd')\"\n",
       "              title=\"Convert this dataframe to an interactive table.\"\n",
       "              style=\"display:none;\">\n",
       "        \n",
       "  <svg xmlns=\"http://www.w3.org/2000/svg\" height=\"24px\"viewBox=\"0 0 24 24\"\n",
       "       width=\"24px\">\n",
       "    <path d=\"M0 0h24v24H0V0z\" fill=\"none\"/>\n",
       "    <path d=\"M18.56 5.44l.94 2.06.94-2.06 2.06-.94-2.06-.94-.94-2.06-.94 2.06-2.06.94zm-11 1L8.5 8.5l.94-2.06 2.06-.94-2.06-.94L8.5 2.5l-.94 2.06-2.06.94zm10 10l.94 2.06.94-2.06 2.06-.94-2.06-.94-.94-2.06-.94 2.06-2.06.94z\"/><path d=\"M17.41 7.96l-1.37-1.37c-.4-.4-.92-.59-1.43-.59-.52 0-1.04.2-1.43.59L10.3 9.45l-7.72 7.72c-.78.78-.78 2.05 0 2.83L4 21.41c.39.39.9.59 1.41.59.51 0 1.02-.2 1.41-.59l7.78-7.78 2.81-2.81c.8-.78.8-2.07 0-2.86zM5.41 20L4 18.59l7.72-7.72 1.47 1.35L5.41 20z\"/>\n",
       "  </svg>\n",
       "      </button>\n",
       "      \n",
       "  <style>\n",
       "    .colab-df-container {\n",
       "      display:flex;\n",
       "      flex-wrap:wrap;\n",
       "      gap: 12px;\n",
       "    }\n",
       "\n",
       "    .colab-df-convert {\n",
       "      background-color: #E8F0FE;\n",
       "      border: none;\n",
       "      border-radius: 50%;\n",
       "      cursor: pointer;\n",
       "      display: none;\n",
       "      fill: #1967D2;\n",
       "      height: 32px;\n",
       "      padding: 0 0 0 0;\n",
       "      width: 32px;\n",
       "    }\n",
       "\n",
       "    .colab-df-convert:hover {\n",
       "      background-color: #E2EBFA;\n",
       "      box-shadow: 0px 1px 2px rgba(60, 64, 67, 0.3), 0px 1px 3px 1px rgba(60, 64, 67, 0.15);\n",
       "      fill: #174EA6;\n",
       "    }\n",
       "\n",
       "    [theme=dark] .colab-df-convert {\n",
       "      background-color: #3B4455;\n",
       "      fill: #D2E3FC;\n",
       "    }\n",
       "\n",
       "    [theme=dark] .colab-df-convert:hover {\n",
       "      background-color: #434B5C;\n",
       "      box-shadow: 0px 1px 3px 1px rgba(0, 0, 0, 0.15);\n",
       "      filter: drop-shadow(0px 1px 2px rgba(0, 0, 0, 0.3));\n",
       "      fill: #FFFFFF;\n",
       "    }\n",
       "  </style>\n",
       "\n",
       "      <script>\n",
       "        const buttonEl =\n",
       "          document.querySelector('#df-1e6a582c-220a-4c53-b980-b9551fbe75dd button.colab-df-convert');\n",
       "        buttonEl.style.display =\n",
       "          google.colab.kernel.accessAllowed ? 'block' : 'none';\n",
       "\n",
       "        async function convertToInteractive(key) {\n",
       "          const element = document.querySelector('#df-1e6a582c-220a-4c53-b980-b9551fbe75dd');\n",
       "          const dataTable =\n",
       "            await google.colab.kernel.invokeFunction('convertToInteractive',\n",
       "                                                     [key], {});\n",
       "          if (!dataTable) return;\n",
       "\n",
       "          const docLinkHtml = 'Like what you see? Visit the ' +\n",
       "            '<a target=\"_blank\" href=https://colab.research.google.com/notebooks/data_table.ipynb>data table notebook</a>'\n",
       "            + ' to learn more about interactive tables.';\n",
       "          element.innerHTML = '';\n",
       "          dataTable['output_type'] = 'display_data';\n",
       "          await google.colab.output.renderOutput(dataTable, element);\n",
       "          const docLink = document.createElement('div');\n",
       "          docLink.innerHTML = docLinkHtml;\n",
       "          element.appendChild(docLink);\n",
       "        }\n",
       "      </script>\n",
       "    </div>\n",
       "  </div>\n",
       "  "
      ],
      "text/plain": [
       "       Class                                        Description\n",
       "0  Household  Paper Plane Design Framed Wall Hanging Motivat...\n",
       "1  Household  SAF 'Floral' Framed Painting (Wood, 30 inch x ...\n",
       "2  Household  SAF 'UV Textured Modern Art Print Framed' Pain...\n",
       "3  Household  SAF Flower Print Framed Painting (Synthetic, 1...\n",
       "4  Household  Incredible Gifts India Wooden Happy Birthday U..."
      ]
     },
     "execution_count": 4,
     "metadata": {},
     "output_type": "execute_result"
    }
   ],
   "source": [
    "#viewing the first few rows of the dataset\n",
    "raw_data.columns = ['Class', 'Description'] #naming columns\n",
    "raw_data.head()"
   ]
  },
  {
   "cell_type": "markdown",
   "metadata": {
    "id": "MGnUwUbwsvcb"
   },
   "source": [
    "The raw dataset consists of 2 columns and 50425 samples."
   ]
  },
  {
   "cell_type": "code",
   "execution_count": null,
   "metadata": {
    "colab": {
     "base_uri": "https://localhost:8080/"
    },
    "id": "QDMwQ923sPgk",
    "outputId": "264fa2e0-c265-408a-cc14-a3e839eb610d"
   },
   "outputs": [
    {
     "data": {
      "text/plain": [
       "(50425, 2)"
      ]
     },
     "execution_count": 5,
     "metadata": {},
     "output_type": "execute_result"
    }
   ],
   "source": [
    "#viewing dataset shape\n",
    "raw_data.shape"
   ]
  },
  {
   "cell_type": "markdown",
   "metadata": {
    "id": "ZqmzQ-Prs2i6"
   },
   "source": [
    "There are four classes, 'Household', 'Books', 'Clothing & Accessories', and 'Electronics'."
   ]
  },
  {
   "cell_type": "code",
   "execution_count": null,
   "metadata": {
    "colab": {
     "base_uri": "https://localhost:8080/"
    },
    "id": "Uz3Wfm7wrMeQ",
    "outputId": "a32fee72-5b78-44b6-f31d-927145140d74"
   },
   "outputs": [
    {
     "data": {
      "text/plain": [
       "array(['Household', 'Books', 'Clothing & Accessories', 'Electronics'],\n",
       "      dtype=object)"
      ]
     },
     "execution_count": 6,
     "metadata": {},
     "output_type": "execute_result"
    }
   ],
   "source": [
    "#viewiing unique class labels\n",
    "raw_data['Class'].unique()"
   ]
  },
  {
   "cell_type": "markdown",
   "metadata": {
    "id": "gkkNfCmds_H5"
   },
   "source": [
    "Luckily the dataset does not contain many missing values. Rows with missing values are dropped."
   ]
  },
  {
   "cell_type": "code",
   "execution_count": null,
   "metadata": {
    "colab": {
     "base_uri": "https://localhost:8080/"
    },
    "id": "4MrEZ8LbsJMk",
    "outputId": "fc478971-7800-4ee0-f0d2-907c362eea75"
   },
   "outputs": [
    {
     "name": "stdout",
     "output_type": "stream",
     "text": [
      "Class          0\n",
      "Description    1\n",
      "dtype: int64\n"
     ]
    }
   ],
   "source": [
    "print(raw_data.isna().sum()) #print sum of missing values per column\n",
    "raw_data.dropna(inplace=True) #drop rows with missing values"
   ]
  },
  {
   "cell_type": "markdown",
   "metadata": {
    "id": "teqGHrErtCkS"
   },
   "source": [
    "Unfortunately, a large chunk of the dataset is duplicates, which can be expected for data scraped from e-commerce websites. Duplicate rows are dropped from the datasets."
   ]
  },
  {
   "cell_type": "code",
   "execution_count": null,
   "metadata": {
    "colab": {
     "base_uri": "https://localhost:8080/"
    },
    "id": "yYVp-7RTv-Wk",
    "outputId": "3fb150b8-32ca-460d-c898-97e25d678607"
   },
   "outputs": [
    {
     "name": "stdout",
     "output_type": "stream",
     "text": [
      "Dropping 22622 duplicates\n"
     ]
    }
   ],
   "source": [
    "#drop duplicates\n",
    "n_duplicates = raw_data['Description'].duplicated().sum() #get sum of duplicate observations\n",
    "print(f'Dropping {n_duplicates} duplicates')\n",
    "raw_data.drop_duplicates(inplace = True) #dropping\n",
    "raw_data.reset_index(drop = True, inplace = True) #resetting index\n"
   ]
  },
  {
   "cell_type": "markdown",
   "metadata": {
    "id": "UlmHNh3StIYa"
   },
   "source": [
    "Unfortunately, the dataset has shrunk by quite a large amount after dropping duplicates. The cleaned dataset now has 27802 observations."
   ]
  },
  {
   "cell_type": "code",
   "execution_count": null,
   "metadata": {
    "colab": {
     "base_uri": "https://localhost:8080/"
    },
    "id": "RyQN5kwawclD",
    "outputId": "508302e2-a5fc-4928-9569-918fb0369372"
   },
   "outputs": [
    {
     "data": {
      "text/plain": [
       "(27802, 2)"
      ]
     },
     "execution_count": 9,
     "metadata": {},
     "output_type": "execute_result"
    }
   ],
   "source": [
    "#view shape after dropping duplicate rows\n",
    "raw_data.shape"
   ]
  },
  {
   "cell_type": "markdown",
   "metadata": {
    "id": "b5dRVJXotO9r"
   },
   "source": [
    "All classes are well represented, though one class does have more observations than others. This would suggest the use of class weighting  in the learning process to prevent the model favouring the majority class."
   ]
  },
  {
   "cell_type": "code",
   "execution_count": null,
   "metadata": {
    "colab": {
     "base_uri": "https://localhost:8080/"
    },
    "id": "kCl57djqwg27",
    "outputId": "916ceb73-944c-449e-eb08-506554fa9fee"
   },
   "outputs": [
    {
     "data": {
      "text/plain": [
       "Household                 10564\n",
       "Books                      6256\n",
       "Clothing & Accessories     5674\n",
       "Electronics                5308\n",
       "Name: Class, dtype: int64"
      ]
     },
     "execution_count": 10,
     "metadata": {},
     "output_type": "execute_result"
    }
   ],
   "source": [
    "#viewing observations per class\n",
    "raw_data['Class'].value_counts()"
   ]
  },
  {
   "cell_type": "markdown",
   "metadata": {
    "id": "B9SrTmgtwnGL"
   },
   "source": [
    "##**Text Cleaning**"
   ]
  },
  {
   "cell_type": "markdown",
   "metadata": {
    "id": "OYJkd-8TtRxS"
   },
   "source": [
    "To aid learning, the text data should be cleaned of any unneccesary noise, such as common stopwords, capitalisation, and punctuation."
   ]
  },
  {
   "cell_type": "code",
   "execution_count": null,
   "metadata": {
    "colab": {
     "base_uri": "https://localhost:8080/",
     "height": 90
    },
    "id": "X1uL7CtFsyGN",
    "outputId": "3a34209b-f072-4472-adcb-e8451c6af784"
   },
   "outputs": [
    {
     "data": {
      "application/vnd.google.colaboratory.intrinsic+json": {
       "type": "string"
      },
      "text/plain": [
       "\"Painting Mantra 'Vintage Car' Art Printing Set (Synthetic Wood, 60 cm x 50 cm x 2 cm, Brown, Set of 4) Size:60 cm x 50 cm x 2 cm   From the house of art street, we bring this exclusive framed poster to satiate the taste of decor freaks and vintage cars lovers. The filling station-vintage car brown framed poster is a high resolution vintage poster which comes covered in a brown frame. Hang the framed posters depicting image of a car from the nostalgic era on your favourite wall and make it look colourful and vibrant. The product is durable and of high quality. Presented to you with love from art street.\""
      ]
     },
     "execution_count": 11,
     "metadata": {},
     "output_type": "execute_result"
    }
   ],
   "source": [
    "#viewing sample (uncleaned) text\n",
    "raw_data['Description'][10]"
   ]
  },
  {
   "cell_type": "markdown",
   "metadata": {
    "id": "W91z6kBWtd5q"
   },
   "source": [
    "The text is cleaned using traditional NLP technqiues from Python's NLTK library. All text is lower cased and non-alpha characters are removed. Furthermore, frequent English stopwords and words of less than 3 characters are removed, and the text is lemmatized. Lemmatization involes reducing words back to their root form, thus helping the model better recognise similar words."
   ]
  },
  {
   "cell_type": "code",
   "execution_count": null,
   "metadata": {
    "id": "znz23dgatAjk"
   },
   "outputs": [],
   "source": [
    "#get list of English stopwords\n",
    "stop_words = stopwords.words(\"english\") \n",
    "\n",
    "#get list of english dictionary words\n",
    "english_words = set(nltk.corpus.words.words())\n",
    "\n",
    "#initialise lemmatizer\n",
    "lemmatizer = WordNetLemmatizer()\n",
    "\n",
    "def text_cleaning(text):\n",
    "  '''\n",
    "  Function to clean text via:\n",
    "  1. lower casing\n",
    "  2. removal of non-alpha characters\n",
    "  3. removal of common stopwords\n",
    "  4. removal of short words\n",
    "  5. removal of non-English dictionary words\n",
    "  6. lemmatization\n",
    "\n",
    "  text is string paramter of text to be cleaned.\n",
    "  Returns cleaned text\n",
    "  '''\n",
    "\n",
    "  #lower case all text\n",
    "  text = text.lower()\n",
    "\n",
    "  #remove all non-alpha characters from string, preserving whitespace\n",
    "  text = re.sub(r'[^a-zA-Z\\s]', '', text)\n",
    "\n",
    "  #remove English stopwords\n",
    "  text = \" \".join([word for word in word_tokenize(text) if word not in stop_words])\n",
    "\n",
    "  #remove words with less than 3 characters\n",
    "  text = \" \".join([word for word in word_tokenize(text) if len(word) > 2])\n",
    "\n",
    "  #remove misspelt or non-english words\n",
    "  text = \" \".join([word for word in word_tokenize(text) if word in english_words])\n",
    "\n",
    "  #lemmatization\n",
    "  text = \" \".join([lemmatizer.lemmatize(word) for word in word_tokenize(text)]) \n",
    "\n",
    "  return text"
   ]
  },
  {
   "cell_type": "code",
   "execution_count": null,
   "metadata": {
    "id": "ygDFTewGtcux"
   },
   "outputs": [],
   "source": [
    "#applying cleaning and saving in new column\n",
    "raw_data['Desc_Clean'] = raw_data['Description'].apply(text_cleaning)"
   ]
  },
  {
   "cell_type": "code",
   "execution_count": null,
   "metadata": {
    "colab": {
     "base_uri": "https://localhost:8080/"
    },
    "id": "MjkXRvFguz6n",
    "outputId": "9a6a7652-a2e1-4902-9175-4ed677a5f17a"
   },
   "outputs": [
    {
     "name": "stdout",
     "output_type": "stream",
     "text": [
      "Original Text: \n",
      " Painting Mantra 'Vintage Car' Art Printing Set (Synthetic Wood, 60 cm x 50 cm x 2 cm, Brown, Set of 4) Size:60 cm x 50 cm x 2 cm   From the house of art street, we bring this exclusive framed poster to satiate the taste of decor freaks and vintage cars lovers. The filling station-vintage car brown framed poster is a high resolution vintage poster which comes covered in a brown frame. Hang the framed posters depicting image of a car from the nostalgic era on your favourite wall and make it look colourful and vibrant. The product is durable and of high quality. Presented to you with love from art street.\n",
      "Cleaned Text: \n",
      " painting mantra vintage car art printing set synthetic wood brown set size house art street bring exclusive framed poster satiate taste freak vintage car lover filling car brown framed poster high resolution vintage poster come covered brown frame framed poster image car nostalgic era wall make look vibrant product durable high quality love art street\n"
     ]
    }
   ],
   "source": [
    "#viewing raw v cleaned sample\n",
    "original = raw_data['Description'][10]\n",
    "cleaned = raw_data['Desc_Clean'][10]\n",
    "\n",
    "print(f'Original Text: \\n {original}')\n",
    "print(f'Cleaned Text: \\n {cleaned}')\n"
   ]
  },
  {
   "cell_type": "markdown",
   "metadata": {
    "id": "kiYkxNssxUi7"
   },
   "source": [
    "Taking a closer look at the cleaned features, we can see that the mean string length is 57 words. Notice that the minimum is zero, suggesting some empty rows in the cleaned data. These rows are dropped."
   ]
  },
  {
   "cell_type": "code",
   "execution_count": null,
   "metadata": {
    "colab": {
     "base_uri": "https://localhost:8080/"
    },
    "id": "Rn0V8mbVxa7l",
    "outputId": "e56d692d-c2dc-4142-dacb-75b4c49665d2"
   },
   "outputs": [
    {
     "name": "stdout",
     "output_type": "stream",
     "text": [
      "Average feature length: 57.108085749226674\n",
      "Lonnets feature: 3872\n",
      "Shortest feature: 0\n"
     ]
    }
   ],
   "source": [
    "#create new column calculating string length of cleaned text\n",
    "raw_data['length'] = raw_data['Desc_Clean'].str.split().apply(len)\n",
    "\n",
    "#describing string length\n",
    "avg_len = raw_data['length'].mean()\n",
    "max_len = raw_data['length'].max()\n",
    "min_len = raw_data['length'].min()\n",
    "\n",
    "print(f'Average feature length: {avg_len}')\n",
    "print(f'Lonnets feature: {max_len}')\n",
    "print(f'Shortest feature: {min_len}')"
   ]
  },
  {
   "cell_type": "code",
   "execution_count": null,
   "metadata": {
    "id": "tHzQH3HIxzhy"
   },
   "outputs": [],
   "source": [
    "#drop rows with string length less than 3\n",
    "raw_data = raw_data[raw_data['length'] >= 3]"
   ]
  },
  {
   "cell_type": "markdown",
   "metadata": {
    "id": "UYPb4eAVzLB3"
   },
   "source": [
    "The total number of unique words (i.e. vocabulary size) in the dataset is just above 20,000. "
   ]
  },
  {
   "cell_type": "code",
   "execution_count": null,
   "metadata": {
    "colab": {
     "base_uri": "https://localhost:8080/"
    },
    "id": "e4ChpXoWyNqC",
    "outputId": "864feedd-615e-433e-f7aa-b1a3278185c9"
   },
   "outputs": [
    {
     "name": "stdout",
     "output_type": "stream",
     "text": [
      "The number of unique tokens is 21120\n"
     ]
    }
   ],
   "source": [
    "#counting unique tokens\n",
    "vocab = []\n",
    "for text in raw_data['Desc_Clean']:\n",
    "    words = text.split()\n",
    "    vocab.extend(words)\n",
    "\n",
    "total_unique_words = len(set(vocab))\n",
    "print(f'The number of unique tokens is {total_unique_words}')"
   ]
  },
  {
   "cell_type": "markdown",
   "metadata": {
    "id": "QNfJ8I8S3Eiy"
   },
   "source": [
    "##**Preparing Cleaned Text for Network**"
   ]
  },
  {
   "cell_type": "markdown",
   "metadata": {
    "id": "wlejlBxdvCrB"
   },
   "source": [
    "To be used as input into a neural network, the text data must be converted into numerical format via encoding or vectorisation.\n",
    "\n",
    "First, the dataset is split into train and test datasets using a 90-10 ratio."
   ]
  },
  {
   "cell_type": "code",
   "execution_count": null,
   "metadata": {
    "id": "rP6OnN_EMvvt"
   },
   "outputs": [],
   "source": [
    "#train-test split\n",
    "def get_dataset_partitions(df, train_split=0.9, test_split=0.1, seed = 10):\n",
    "    '''\n",
    "    Function to return dataset split into train and test sets.\n",
    "\n",
    "    df is original dataframe to be split.\n",
    "    Returns two split sections of original dataset.\n",
    "    '''\n",
    "    assert (train_split + test_split) == 1 #check that test and train split add to 1\n",
    "    \n",
    "    df_shuffle = df.sample(frac=1, random_state=seed) #returns back full dataset (frac = 1) but randomly shuffled\n",
    "    split_point = [int(train_split * len(df))]\n",
    "    \n",
    "    train_df, test_df = np.split(df_shuffle, split_point)\n",
    "    \n",
    "    return train_df, test_df\n",
    "\n",
    "#applying split\n",
    "train_data, test_data = get_dataset_partitions(raw_data) "
   ]
  },
  {
   "cell_type": "markdown",
   "metadata": {
    "id": "croIspvMHnjR"
   },
   "source": [
    "The training dataset contains 24485 observations, while the test dataset contains 2721 observations."
   ]
  },
  {
   "cell_type": "code",
   "execution_count": null,
   "metadata": {
    "colab": {
     "base_uri": "https://localhost:8080/"
    },
    "id": "hn5-ZtpYNort",
    "outputId": "5dbf43c5-e9ee-4266-a971-eaf45ebdd5fb"
   },
   "outputs": [
    {
     "name": "stdout",
     "output_type": "stream",
     "text": [
      "Train Data: (24485, 4)\n",
      "Test Data: (2721, 4)\n"
     ]
    }
   ],
   "source": [
    "#view split dataset shapes\n",
    "print(f'Train Data: {train_data.shape}')\n",
    "print(f'Test Data: {test_data.shape}')"
   ]
  },
  {
   "cell_type": "markdown",
   "metadata": {
    "id": "lRT1ojeKv5V6"
   },
   "source": [
    "Next, the text descriptions are tokenized and vectorised. Vectorisation is done via integer tensors that are padded to ensure all sequences are of same length. This form of vectorisation will allow the data to be passed into an Embedding layer.\n",
    "\n",
    "For training, I will use a vocabulary size of 5000, which is around 25% of the total vocabulary. Sequences will be trimmed to length 30, which is around half of the mean length."
   ]
  },
  {
   "cell_type": "code",
   "execution_count": null,
   "metadata": {
    "id": "lLZZi41KHbAI"
   },
   "outputs": [],
   "source": [
    "vocab_size = 5000 #total number of words to be used (model will use top 'vocab_size' most frequent words)\n",
    "maxlen = 30 #pad sequence length (use only first 'maxlen' words from each text description) \n",
    "\n",
    "def vectorise_text(text_column, num_words = vocab_size, maxlen = maxlen):\n",
    "  '''\n",
    "  Function to vectorise and pad/trim text sequences into integer tensors.\n",
    "\n",
    "  text_column is dataframe column containing text data to be vectorised.\n",
    "  Returns vectorised sequences and index of words\n",
    "  '''\n",
    "\n",
    "  #convert dataframe column to a list\n",
    "  samples = text_column.to_list()\n",
    "\n",
    "  #fit the Keras tokenizer on the data, taking into account only the top 'num_words' frequent words\n",
    "  tokenizer = Tokenizer(num_words=num_words)\n",
    "  tokenizer.fit_on_texts(samples)\n",
    "  word_index = tokenizer.word_index #get index of words (used to create embedding matrix)\n",
    "\n",
    "  #vectorise tokens into integer tensors, which can be passed on to an Embedding layer.\n",
    "  sequences = tokenizer.texts_to_sequences(samples) \n",
    "  \n",
    "  #pad or trim sequences to make all sequences the same 'maxlen' length \n",
    "  padded = preprocessing.sequence.pad_sequences(sequences, maxlen=maxlen)\n",
    "\n",
    "  return padded, word_index\n",
    "\n",
    "#apply vectorisation to train and test data\n",
    "X_train, words_train = vectorise_text(train_data['Desc_Clean'])\n",
    "X_test, word_test = vectorise_text(test_data['Desc_Clean'])"
   ]
  },
  {
   "cell_type": "code",
   "execution_count": null,
   "metadata": {
    "colab": {
     "base_uri": "https://localhost:8080/"
    },
    "id": "ipGEoNp8RkGr",
    "outputId": "0dbbb28c-2dba-4c39-f1f5-c907ef025437"
   },
   "outputs": [
    {
     "data": {
      "text/plain": [
       "array([ 157, 1642,  157,  207, 3200, 2001,  559,  619,  157,   29,  124,\n",
       "       1186, 2429,  186,  328, 1160,   99,  124,  263, 1489,  103, 1351,\n",
       "        218, 1501,  759,  246,  124,  619,  559, 1383], dtype=int32)"
      ]
     },
     "execution_count": 21,
     "metadata": {},
     "output_type": "execute_result"
    }
   ],
   "source": [
    "#view vectorised data\n",
    "X_train[10]"
   ]
  },
  {
   "cell_type": "markdown",
   "metadata": {
    "id": "inqzDN6pw3oy"
   },
   "source": [
    "Apart from the features, the class labels also need to be converted to numerical format. This is done by categorically encoding the class labels."
   ]
  },
  {
   "cell_type": "code",
   "execution_count": null,
   "metadata": {
    "id": "06S0tPR5EhHx"
   },
   "outputs": [],
   "source": [
    "#categorise class labels\n",
    "def label_encoder(class_column):\n",
    "  '''\n",
    "  Function to categorise the class labels\n",
    "\n",
    "  class_column is dataframe column containing categorical class labels\n",
    "  Returns encoded class labels\n",
    "  '''\n",
    "  encoder = LabelEncoder() #initialise Keras label encoder\n",
    "  labels = encoder.fit_transform(class_column) #fit on text labels\n",
    "\n",
    "  return labels\n",
    "\n",
    "#appling class label encoded to train and test datasets\n",
    "y_train, y_test = label_encoder(train_data['Class']), label_encoder(test_data['Class'])"
   ]
  },
  {
   "cell_type": "markdown",
   "metadata": {
    "id": "upB7OYW3J7st"
   },
   "source": [
    "There are four numerical class labels, which matches the amount of text labels."
   ]
  },
  {
   "cell_type": "code",
   "execution_count": null,
   "metadata": {
    "colab": {
     "base_uri": "https://localhost:8080/"
    },
    "id": "qgsnor-Uer_I",
    "outputId": "adec197f-8b69-4745-a0c1-889e7b7ef9be"
   },
   "outputs": [
    {
     "name": "stdout",
     "output_type": "stream",
     "text": [
      "[0 1 2 3] [ 596  559  493 1073]\n"
     ]
    }
   ],
   "source": [
    "#verifying that all classes are well represented in the test set\n",
    "unique, counts = np.unique(y_test, return_counts=True)\n",
    "print(unique, counts)"
   ]
  },
  {
   "cell_type": "markdown",
   "metadata": {
    "id": "W-TGbTZzzkIF"
   },
   "source": [
    "##**Additional Prep**"
   ]
  },
  {
   "cell_type": "markdown",
   "metadata": {
    "id": "b-SDyuXXUAmo"
   },
   "source": [
    "Before training the networks, I perform some additional prep.\n",
    "\n",
    "First I set up a helper function for plotting training and validation metrics against the number of epochs (to assess overfitting). "
   ]
  },
  {
   "cell_type": "code",
   "execution_count": null,
   "metadata": {
    "id": "4KadD8qK5zhl"
   },
   "outputs": [],
   "source": [
    "#helper plotting function\n",
    "def plot_loss_epochs(model_metrics):\n",
    "  '''\n",
    "  Function to plot validation/training loss/accuaracy against number of epochs.\n",
    "\n",
    "  model_metrics is dictionary containg model training history metrics\n",
    "  '''\n",
    "  #get metrics\n",
    "  acc = model_metrics.history['sparse_categorical_accuracy']\n",
    "  val_acc = model_metrics.history['val_sparse_categorical_accuracy']\n",
    "  loss = model_metrics.history['loss']\n",
    "  val_loss = model_metrics.history['val_loss']\n",
    "\n",
    "  #calculate number of epochs using length of metrics list\n",
    "  epochs = range(1, len(acc) + 1)\n",
    "\n",
    "  #format accuracy plot\n",
    "  plt.plot(epochs, acc, 'bo', label='Training acc')\n",
    "  plt.plot(epochs, val_acc, 'b', label='Validation acc')\n",
    "  plt.title('Training and validation accuracy')\n",
    "  plt.legend()\n",
    "\n",
    "  plt.figure()\n",
    "\n",
    "  #format loss plot\n",
    "  plt.plot(epochs, loss, 'bo', label='Training loss')\n",
    "  plt.plot(epochs, val_loss, 'b', label='Validation loss')\n",
    "  plt.title('Training and validation loss')\n",
    "  plt.legend()"
   ]
  },
  {
   "cell_type": "markdown",
   "metadata": {
    "id": "0JQnBXMmUY9Q"
   },
   "source": [
    "I also download the Glove embeddings and set up an embedding matrix to be used as the Embedding layer weights in the networks. Glove Embeddings were developed at Stanford University and are a form of word embedding that emap words into a meaningful space where the distance between words is related to semantic similarity. The embeddings were trained on a corpus of aggregated global word-word co-occurrence statistics.\n",
    "\n",
    "For this coursework I use the 100 dimensional Glove embeddings. These are downloaded onto Google drive and read into the notebook using the gdrive_download function defined above."
   ]
  },
  {
   "cell_type": "code",
   "execution_count": null,
   "metadata": {
    "colab": {
     "base_uri": "https://localhost:8080/"
    },
    "id": "rS-tOY--5El_",
    "outputId": "b43309d0-8793-4d5e-85db-6a5df3165ad4"
   },
   "outputs": [
    {
     "name": "stdout",
     "output_type": "stream",
     "text": [
      "Found 400000 word vectors.\n"
     ]
    }
   ],
   "source": [
    "#downloading Glove embeddings from Google Drive (downloaded from https://nlp.stanford.edu/projects/glove/) \n",
    "download_glove = gdrive_download('1LzUGGi06oeyF8IvSmT227kN5gzTuMN01') #this file id is specific to the dataset csv stored on personal Google Drive\n",
    "download_glove.GetContentFile('glove.6B.100d.txt')\n",
    "\n",
    "#parse embeddings\n",
    "embeddings_index = {} #dictionary to store word-embedding pairs\n",
    "f = open('glove.6B.100d.txt') #open downloaded file\n",
    "for line in f:\n",
    "    values = line.split() #each line contains embeddings for 1 word\n",
    "    word = values[0] #word is first item in line\n",
    "    coefs = np.asarray(values[1:], dtype='float32') #remaining items in line are embeddings\n",
    "    embeddings_index[word] = coefs #store in dictionary as word : embeddings array\n",
    "f.close()\n",
    "\n",
    "print('Found %s word vectors.' % len(embeddings_index))\n",
    "\n",
    "#initialise embedding matrix of shape (max_words, embedding_dim) ready to load into an Embedding layer\n",
    "embedding_dim = 100 #dimension of downloaded embeddings\n",
    "max_words = vocab_size #max_words used in embedding matrix is limited to our defined vocabulary size\n",
    "embedding_matrix = np.zeros((max_words, embedding_dim))\n",
    "\n",
    "#populate embedding matrix with Embedding weights to pass onto Embedding layer, using the words in the word index from the training set\n",
    "for word, i in words_train.items():\n",
    "    embedding_vector = embeddings_index.get(word)\n",
    "    if i < max_words: \n",
    "        if embedding_vector is not None:\n",
    "            #words not found in Glove embeddings will be given zero weights\n",
    "            embedding_matrix[i] = embedding_vector"
   ]
  },
  {
   "cell_type": "markdown",
   "metadata": {
    "id": "ZSWgA8G86jwN"
   },
   "source": [
    "##**Baseline**"
   ]
  },
  {
   "cell_type": "markdown",
   "metadata": {
    "id": "2e-_ABI0Vidr"
   },
   "source": [
    "The below code sets up the baseline network.\n",
    "\n",
    "A baseline is a simple model against which to compare the more complex network. Since this is text-based data, the baseline will be a simple RNN, using the Glove embeddings to represent the text data. RNNs contain a recurrent layer that processes sequential data by maintaining a hidden state that is updated at each time step. This enables the network to capture temporal dependencies in the data."
   ]
  },
  {
   "cell_type": "code",
   "execution_count": null,
   "metadata": {
    "colab": {
     "base_uri": "https://localhost:8080/"
    },
    "id": "LAS3RKfK44Rk",
    "outputId": "b86f2164-39e2-46a7-9d5f-75041a7b20c1"
   },
   "outputs": [
    {
     "name": "stdout",
     "output_type": "stream",
     "text": [
      "Model: \"sequential\"\n",
      "_________________________________________________________________\n",
      " Layer (type)                Output Shape              Param #   \n",
      "=================================================================\n",
      " embedding (Embedding)       (None, 30, 100)           500000    \n",
      "                                                                 \n",
      " simple_rnn (SimpleRNN)      (None, 32)                4256      \n",
      "                                                                 \n",
      " dense (Dense)               (None, 4)                 132       \n",
      "                                                                 \n",
      "=================================================================\n",
      "Total params: 504,388\n",
      "Trainable params: 4,388\n",
      "Non-trainable params: 500,000\n",
      "_________________________________________________________________\n"
     ]
    }
   ],
   "source": [
    "#set up RNN\n",
    "rnn_model = Sequential()\n",
    "rnn_model.add(Embedding(max_words, embedding_dim, input_length=maxlen))\n",
    "rnn_model.add(SimpleRNN(32))\n",
    "rnn_model.add(Dense(4, activation='softmax')) #classifier (output four class probabilities)\n",
    "rnn_model.compile(optimizer='rmsprop', loss='sparse_categorical_crossentropy', metrics=['sparse_categorical_accuracy'])\n",
    "#use sparse_categorical_crossentropy as loss since y labels are encoded as integers (not one hot)\n",
    "\n",
    "#set the Embedding layer weights to be non-trainable and frozen at the Glove embeddings\n",
    "rnn_model.layers[0].set_weights([embedding_matrix])\n",
    "rnn_model.layers[0].trainable = False\n",
    "\n",
    "rnn_model.summary()"
   ]
  },
  {
   "cell_type": "markdown",
   "metadata": {
    "id": "Y6-LP6waaask"
   },
   "source": [
    "The RNN gives a modest accruacy score of just above 39% on the test set. This is a 4-class classification tastk, meaning a random guess would achieve 25% accuracy. Hence, although modest, the RNN performs better than a random guess, suggesting that some learning is occurring."
   ]
  },
  {
   "cell_type": "code",
   "execution_count": null,
   "metadata": {
    "colab": {
     "base_uri": "https://localhost:8080/",
     "height": 563
    },
    "id": "gDFvg1R-5k-q",
    "outputId": "fe82bf4d-a746-4ed4-f6ee-d7239d6d64a7"
   },
   "outputs": [
    {
     "name": "stdout",
     "output_type": "stream",
     "text": [
      "86/86 [==============================] - 0s 5ms/step - loss: 2.2569 - sparse_categorical_accuracy: 0.3921\n"
     ]
    },
    {
     "data": {
      "image/png": "[encoded data removed]",
      "text/plain": [
       "<Figure size 432x288 with 1 Axes>"
      ]
     },
     "metadata": {
      "needs_background": "light"
     },
     "output_type": "display_data"
    },
    {
     "data": {
      "image/png": "[encoded data removed]",
      "text/plain": [
       "<Figure size 432x288 with 1 Axes>"
      ]
     },
     "metadata": {
      "needs_background": "light"
     },
     "output_type": "display_data"
    }
   ],
   "source": [
    "#fit the model\n",
    "rnn_train = rnn_model.fit(X_train, y_train,\n",
    "                    epochs=10,\n",
    "                    batch_size=32,\n",
    "                    validation_split=0.10, \n",
    "                    verbose = 0)\n",
    "\n",
    "#evaluate on test set\n",
    "rnn_model.evaluate(X_test, y_test)\n",
    "#plot validation scores against epochs\n",
    "plot_loss_epochs(rnn_train)"
   ]
  },
  {
   "cell_type": "markdown",
   "metadata": {
    "id": "hTTrUOpzBk22"
   },
   "source": [
    "##**LSTM Model**"
   ]
  },
  {
   "cell_type": "markdown",
   "metadata": {
    "id": "ertNo0ANWiBw"
   },
   "source": [
    "Now that the baseline model has been trained and evaluated, I will attempt to build a more complex LSTM network that outperforms the baseline. LSTMs are commonly used for processing sequential data as they are able to learn long-term dependencies between time steps in the sequence, and hence are more powerful than simple RNNs.\n",
    "\n",
    "I start with a simple, 1-layer LSTM:"
   ]
  },
  {
   "cell_type": "code",
   "execution_count": null,
   "metadata": {
    "colab": {
     "base_uri": "https://localhost:8080/"
    },
    "id": "ib3-z62cFeDe",
    "outputId": "eeef80d8-5e10-42b5-f0c4-5cfb32b6e997"
   },
   "outputs": [
    {
     "name": "stdout",
     "output_type": "stream",
     "text": [
      "Model: \"sequential_3\"\n",
      "_________________________________________________________________\n",
      " Layer (type)                Output Shape              Param #   \n",
      "=================================================================\n",
      " embedding_3 (Embedding)     (None, 30, 100)           500000    \n",
      "                                                                 \n",
      " lstm_2 (LSTM)               (None, 32)                17024     \n",
      "                                                                 \n",
      " dense_3 (Dense)             (None, 4)                 132       \n",
      "                                                                 \n",
      "=================================================================\n",
      "Total params: 517,156\n",
      "Trainable params: 17,156\n",
      "Non-trainable params: 500,000\n",
      "_________________________________________________________________\n"
     ]
    }
   ],
   "source": [
    "#set up LSTM\n",
    "lstm_model = Sequential()\n",
    "lstm_model.add(Embedding(max_words, embedding_dim, input_length=maxlen))\n",
    "lstm_model.add(LSTM(32))\n",
    "lstm_model.add(Dense(4, activation='softmax'))\n",
    "\n",
    "#set the first layer's (embedding layer) weights to glove embeddings and don't allow training\n",
    "lstm_model.layers[0].set_weights([embedding_matrix])\n",
    "lstm_model.layers[0].trainable = False\n",
    "\n",
    "lstm_model.summary()"
   ]
  },
  {
   "cell_type": "markdown",
   "metadata": {
    "id": "Po9Do4a7at7Y"
   },
   "source": [
    "The simple LSTM performs better than the baseline, achieving an accuracy of just above 35% - this is better than a random guess but not as good as the baseline RNN. \n",
    "\n",
    "However, there is some evidence of overfitting in the plots, starting at epoch 8 when the validation performance improvement stalls. Hence, some steps will be taken to reduce overfitting. Overfitting is caused by the trained network learning the intricacies of the training data too well, thus being unable to generalise to unseen data."
   ]
  },
  {
   "cell_type": "code",
   "execution_count": null,
   "metadata": {
    "colab": {
     "base_uri": "https://localhost:8080/",
     "height": 563
    },
    "id": "PgPoos-9Fvre",
    "outputId": "c01e7c08-7058-4c34-ee26-29d7ad1ed12c"
   },
   "outputs": [
    {
     "name": "stdout",
     "output_type": "stream",
     "text": [
      "86/86 [==============================] - 0s 3ms/step - loss: 2.3446 - sparse_categorical_accuracy: 0.3558\n"
     ]
    },
    {
     "data": {
      "image/png": "[encoded data removed]",
      "text/plain": [
       "<Figure size 432x288 with 1 Axes>"
      ]
     },
     "metadata": {
      "needs_background": "light"
     },
     "output_type": "display_data"
    },
    {
     "data": {
      "image/png": "[encoded data removed]",
      "text/plain": [
       "<Figure size 432x288 with 1 Axes>"
      ]
     },
     "metadata": {
      "needs_background": "light"
     },
     "output_type": "display_data"
    }
   ],
   "source": [
    "#compile\n",
    "lstm_model.compile(optimizer='rmsprop',\n",
    "              loss='sparse_categorical_crossentropy',\n",
    "              metrics=['sparse_categorical_accuracy'])\n",
    "\n",
    "#fitting\n",
    "lstm_train = lstm_model.fit(X_train, y_train,\n",
    "                    epochs=10,\n",
    "                    batch_size=32,\n",
    "                    validation_split=0.10,\n",
    "                    verbose = 0)\n",
    "\n",
    "#evaluate\n",
    "lstm_model.evaluate(X_test, y_test)\n",
    "\n",
    "#plot validation scores against epochs\n",
    "plot_loss_epochs(lstm_train)"
   ]
  },
  {
   "cell_type": "markdown",
   "metadata": {
    "id": "zOK8JWn5Gp61"
   },
   "source": [
    "##**Reducing Overfitting**"
   ]
  },
  {
   "cell_type": "markdown",
   "metadata": {
    "id": "pttV-qn3P7F1"
   },
   "source": [
    "The LSTM clearly is overfitting, as shown in the plots. Before reducing the number of epochs, I will first try some techniques to reduce overfitting. \n",
    "\n",
    "First, I apply class weights to the training process, since the dataset is slightly imbalanced in favour of a major class."
   ]
  },
  {
   "cell_type": "code",
   "execution_count": null,
   "metadata": {
    "colab": {
     "base_uri": "https://localhost:8080/"
    },
    "id": "_3I4xjr_P6z9",
    "outputId": "6f331f58-e819-48c0-92e9-6167c2e516ea"
   },
   "outputs": [
    {
     "data": {
      "text/plain": [
       "{0: 1.178296438883542,\n",
       " 1: 1.2116488519398259,\n",
       " 2: 1.2803283831834344,\n",
       " 3: 0.6472718621127207}"
      ]
     },
     "execution_count": 41,
     "metadata": {},
     "output_type": "execute_result"
    }
   ],
   "source": [
    "#compute class weights using Keras compute_class_weight function\n",
    "class_weights = compute_class_weight(\n",
    "                                        class_weight = \"balanced\",\n",
    "                                        classes = np.unique(y_train),\n",
    "                                        y = y_train                                                    \n",
    "                                    )\n",
    "\n",
    "#store class weights in dictionary\n",
    "class_weights = dict(zip(np.unique(y_train), list(class_weights)))\n",
    "class_weights #view class weights"
   ]
  },
  {
   "cell_type": "markdown",
   "metadata": {
    "id": "IKs8XjhzSAn0"
   },
   "source": [
    "Another common technqiue to avoid overfitting is dropout. This consists of randomly dropping out (i.e., setting to zero) some of the neurons in a layer during training, preventing the network from relying too heavily on any one neuron, and encouraging it to learn more robust and generalizable features. \n",
    "\n",
    "Dropout can be added to the inputs of the LSTM layer, as well as to the outputs (before passing into the dense classifier). I will start with a small dropout rate of 10%."
   ]
  },
  {
   "cell_type": "code",
   "execution_count": null,
   "metadata": {
    "colab": {
     "base_uri": "https://localhost:8080/"
    },
    "id": "GWtwWartRnkd",
    "outputId": "c44ed5e2-ffff-4a32-e554-320695cdb4f2"
   },
   "outputs": [
    {
     "name": "stdout",
     "output_type": "stream",
     "text": [
      "Model: \"sequential_4\"\n",
      "_________________________________________________________________\n",
      " Layer (type)                Output Shape              Param #   \n",
      "=================================================================\n",
      " embedding_4 (Embedding)     (None, 30, 100)           500000    \n",
      "                                                                 \n",
      " lstm_3 (LSTM)               (None, 32)                17024     \n",
      "                                                                 \n",
      " dropout_1 (Dropout)         (None, 32)                0         \n",
      "                                                                 \n",
      " dense_4 (Dense)             (None, 4)                 132       \n",
      "                                                                 \n",
      "=================================================================\n",
      "Total params: 517,156\n",
      "Trainable params: 17,156\n",
      "Non-trainable params: 500,000\n",
      "_________________________________________________________________\n"
     ]
    }
   ],
   "source": [
    "#set up regularised LSTM model\n",
    "lstm_model_v2 = Sequential()\n",
    "lstm_model_v2.add(Embedding(max_words, embedding_dim, input_length=maxlen))\n",
    "lstm_model_v2.add(LSTM(32, dropout = 0.1)) #when using dropout as an argument to the LSTM layer, the dropout is applied to the inputs of the LSTM layer,\n",
    "lstm_model_v2.add(Dropout(0.1)) #adding a dropout layer after the LSTM layer applies dropout to the outputs of the LSTM layer.\n",
    "lstm_model_v2.add(Dense(4, activation='softmax'))\n",
    "\n",
    "lstm_model_v2.layers[0].set_weights([embedding_matrix])\n",
    "lstm_model_v2.layers[0].trainable = False\n",
    "\n",
    "lstm_model_v2.summary()"
   ]
  },
  {
   "cell_type": "markdown",
   "metadata": {
    "id": "H52hqdXDUeJs"
   },
   "source": [
    "Since techniques to reduce overfitting are used, the LSTM is initially trained for more epochs.\n",
    "\n",
    "The model performances improves (38.3% accuracy) but is still slightly below the baseline. However, the overfitting problem has not been solved; the below validation metric plots suggest that overfitting now starts at 5 epochs."
   ]
  },
  {
   "cell_type": "code",
   "execution_count": null,
   "metadata": {
    "colab": {
     "base_uri": "https://localhost:8080/",
     "height": 563
    },
    "id": "1ne0NX86tsrk",
    "outputId": "35b674ad-5fca-48e1-87f3-c6080ec7b0fc"
   },
   "outputs": [
    {
     "name": "stdout",
     "output_type": "stream",
     "text": [
      "86/86 [==============================] - 0s 3ms/step - loss: 3.0993 - sparse_categorical_accuracy: 0.3833\n"
     ]
    },
    {
     "data": {
      "image/png": "[encoded data removed]",
      "text/plain": [
       "<Figure size 432x288 with 1 Axes>"
      ]
     },
     "metadata": {
      "needs_background": "light"
     },
     "output_type": "display_data"
    },
    {
     "data": {
      "image/png": "[encoded data removed]",
      "text/plain": [
       "<Figure size 432x288 with 1 Axes>"
      ]
     },
     "metadata": {
      "needs_background": "light"
     },
     "output_type": "display_data"
    }
   ],
   "source": [
    "#compile\n",
    "lstm_model_v2.compile(optimizer='rmsprop',\n",
    "            loss='sparse_categorical_crossentropy',\n",
    "            metrics=['sparse_categorical_accuracy'])\n",
    "\n",
    "#fitting\n",
    "lstm_train_v2 = lstm_model_v2.fit(X_train, y_train,\n",
    "                    epochs=30,\n",
    "                    batch_size=32,\n",
    "                    validation_split=0.10, \n",
    "                    class_weight=class_weights,\n",
    "                    verbose = 0)\n",
    "\n",
    "#evaluate on test set\n",
    "lstm_model_v2.evaluate(X_test, y_test)\n",
    "\n",
    "#plot validation scores against epochs\n",
    "plot_loss_epochs(lstm_train_v2)"
   ]
  },
  {
   "cell_type": "markdown",
   "metadata": {
    "id": "GqzMiyoNXDgj"
   },
   "source": [
    "To prevent overfitting, I re-train the LSTM using only 5 epochs, along with dropout and class weighting. I will also attempt to use a bidirectional LSTM layer. This layer allows the network to process the data in both forward and backward directions, allowing it to consider future information as well as past data when making predictions.\n",
    "\n",
    "\n",
    "As can be seen from the below metrics, this does not lead to any improvement; accuracy falls back to 35.9% on the test set. This suggest that the model hyperparameters may need to be tuned."
   ]
  },
  {
   "cell_type": "code",
   "execution_count": null,
   "metadata": {
    "colab": {
     "base_uri": "https://localhost:8080/",
     "height": 563
    },
    "id": "okXyamiEXSs6",
    "outputId": "1baaa166-a2e5-4044-f6c1-af51311786e3"
   },
   "outputs": [
    {
     "name": "stdout",
     "output_type": "stream",
     "text": [
      "86/86 [==============================] - 0s 4ms/step - loss: 2.1018 - sparse_categorical_accuracy: 0.3591\n"
     ]
    },
    {
     "data": {
      "image/png": "[encoded data removed]",
      "text/plain": [
       "<Figure size 432x288 with 1 Axes>"
      ]
     },
     "metadata": {
      "needs_background": "light"
     },
     "output_type": "display_data"
    },
    {
     "data": {
      "image/png": "[encoded data removed]",
      "text/plain": [
       "<Figure size 432x288 with 1 Axes>"
      ]
     },
     "metadata": {
      "needs_background": "light"
     },
     "output_type": "display_data"
    }
   ],
   "source": [
    "#set the optimal number of epochs to prevent overfitting\n",
    "opt_epochs = 5\n",
    "\n",
    "#setting up\n",
    "lstm_model_v3 = Sequential()\n",
    "lstm_model_v3.add(Embedding(max_words, embedding_dim, input_length=maxlen))\n",
    "lstm_model_v3.add(Bidirectional(LSTM(32, dropout = 0.1))) \n",
    "lstm_model_v3.add(Dropout(0.1)) \n",
    "lstm_model_v3.add(Dense(4, activation='softmax'))\n",
    "\n",
    "lstm_model_v3.layers[0].set_weights([embedding_matrix])\n",
    "lstm_model_v3.layers[0].trainable = False\n",
    "\n",
    "#compile\n",
    "lstm_model_v3.compile(optimizer='rmsprop',\n",
    "            loss='sparse_categorical_crossentropy',\n",
    "            metrics=['sparse_categorical_accuracy'])\n",
    "\n",
    "#fit \n",
    "lstm_train_v3 = lstm_model_v3.fit(X_train, y_train,\n",
    "                    epochs=opt_epochs,\n",
    "                    batch_size=32,\n",
    "                    validation_split=0.10, \n",
    "                    class_weight=class_weights,\n",
    "                    verbose = 0)\n",
    "\n",
    "#evaluate\n",
    "lstm_model_v3.evaluate(X_test, y_test)\n",
    "\n",
    "#plot\n",
    "plot_loss_epochs(lstm_train_v3)"
   ]
  },
  {
   "cell_type": "markdown",
   "metadata": {
    "id": "iGFMPDXxOAzF"
   },
   "source": [
    "##**Hyperparameter Optimisation**"
   ]
  },
  {
   "cell_type": "markdown",
   "metadata": {
    "id": "bS9vb3ngdFK7"
   },
   "source": [
    "Among the hyperparameters that can be tuned in an LSTM network are the dropout rate, the number of hidden units in the LSTM layers, and the number of layers. To rotate and test different combinations of hyperparameters, I define a function that compiles an LSTM model according to the hyperparameters to be tested."
   ]
  },
  {
   "cell_type": "code",
   "execution_count": null,
   "metadata": {
    "id": "dn2Teg1kImIH"
   },
   "outputs": [],
   "source": [
    "def lstm_compile(starting_hidden_units, layers, dropout, max_words=max_words, embedding_dim=embedding_dim, maxlen=maxlen):\n",
    "  '''\n",
    "  Function to compile LSTM model.\n",
    "\n",
    "  starting_hidden_units = hidden units in first LSTM layer\n",
    "  layers = number of LSTM layers\n",
    "  dropout = dropout rate\n",
    "  max_words = vocabulary size\n",
    "  embedding_dim = dimensions of embedding matrix\n",
    "  maxlen = length of input sequences\n",
    "\n",
    "  Returns compiled model object.\n",
    "  '''\n",
    "  model = Sequential()\n",
    "  model.add(Embedding(max_words, embedding_dim, input_length=maxlen))\n",
    "\n",
    "  #add hidden layers\n",
    "  for i in range(1, layers+1):\n",
    "    if i == layers: #if this is the last hidden layer, switch return_sequences to False\n",
    "      seq_switch = False\n",
    "    else: \n",
    "      seq_switch = True\n",
    "    model.add(Bidirectional(LSTM(units=starting_hidden_units//i, dropout = dropout, return_sequences=seq_switch)))\n",
    "      #drop number of hidden units by factor 'i' as more layers are added\n",
    "  \n",
    "  model.add(Dropout(dropout)) #add dropout layer before dense classifier\n",
    "  model.add(Dense(4, activation='softmax'))\n",
    "  \n",
    "  #set embedding layer to non-trainable\n",
    "  model.layers[0].set_weights([embedding_matrix])\n",
    "  model.layers[0].trainable = False\n",
    "\n",
    "  model.compile(optimizer='rmsprop',\n",
    "              loss='sparse_categorical_crossentropy',\n",
    "              metrics=['sparse_categorical_accuracy'])\n",
    "\n",
    "  return model\n",
    "\n",
    "\n",
    "def fit_and_evaluate(model, batch_size, epochs, X_train=X_train, y_train=y_train, X_test=X_test, y_test=y_test, class_weights = class_weights):\n",
    "  '''\n",
    "  Function to fit model on data and return accuracy score.\n",
    "\n",
    "  model = compiled network\n",
    "  batch_size = size of batches\n",
    "  epochs = number of epochs to train on\n",
    "\n",
    "  Returns model accuracy on test set\n",
    "  '''\n",
    "  model_train = model.fit(X_train, y_train,\n",
    "                      epochs=epochs,\n",
    "                      batch_size=batch_size,\n",
    "                      validation_split=0.10,\n",
    "                      class_weight=class_weights,\n",
    "                      verbose = 0)\n",
    "  scores = model.evaluate(X_test, y_test, verbose = 0)\n",
    "  model_accuracy = scores[1]\n",
    "  return model_accuracy"
   ]
  },
  {
   "cell_type": "markdown",
   "metadata": {
    "id": "WE63rvkxeVP2"
   },
   "source": [
    "I create different combinations of the three hyperparameters using itertools:"
   ]
  },
  {
   "cell_type": "code",
   "execution_count": null,
   "metadata": {
    "colab": {
     "base_uri": "https://localhost:8080/"
    },
    "id": "g12FLVhgfPn5",
    "outputId": "218c8001-83fc-43b4-fbe2-e5b6584f7dea"
   },
   "outputs": [
    {
     "data": {
      "text/plain": [
       "144"
      ]
     },
     "execution_count": 46,
     "metadata": {},
     "output_type": "execute_result"
    }
   ],
   "source": [
    "d = [0.0, 0.1, 0.2, 0.3, 0.4, 0.5] #dropout rates to test\n",
    "h = [16, 32, 64, 128, 256, 512] #hidden units to test\n",
    "l = [1, 2, 3, 4] #number of layers to test\n",
    "\n",
    "#create different combinations for the different hyperparameter values\n",
    "candidates = list(itertools.product(d, h, l))\n",
    "len(candidates)\n"
   ]
  },
  {
   "cell_type": "markdown",
   "metadata": {
    "id": "EKVkB8hThP4Y"
   },
   "source": [
    "The number of candidate combinations to test is too high given my computing capacity. To perform a fair test, I will using the random tool to randomly select 25 different hyperparameter combinations from this list, which will be tested."
   ]
  },
  {
   "cell_type": "code",
   "execution_count": null,
   "metadata": {
    "colab": {
     "base_uri": "https://localhost:8080/"
    },
    "id": "xw4aCGuAhMgf",
    "outputId": "8f6a3e26-c828-484c-d3ee-992683f7ddb3"
   },
   "outputs": [
    {
     "data": {
      "text/plain": [
       "[(0.1, 64, 3),\n",
       " (0.1, 256, 2),\n",
       " (0.5, 16, 3),\n",
       " (0.1, 256, 3),\n",
       " (0.0, 32, 2),\n",
       " (0.4, 64, 2),\n",
       " (0.3, 32, 4),\n",
       " (0.5, 64, 2),\n",
       " (0.2, 32, 4),\n",
       " (0.2, 16, 3),\n",
       " (0.5, 256, 4),\n",
       " (0.5, 16, 4),\n",
       " (0.4, 512, 1),\n",
       " (0.3, 512, 3),\n",
       " (0.0, 64, 4),\n",
       " (0.5, 512, 2),\n",
       " (0.1, 256, 1),\n",
       " (0.2, 32, 3),\n",
       " (0.3, 64, 4),\n",
       " (0.0, 128, 4),\n",
       " (0.1, 32, 3),\n",
       " (0.5, 256, 2),\n",
       " (0.2, 256, 4),\n",
       " (0.4, 16, 4),\n",
       " (0.3, 16, 1)]"
      ]
     },
     "execution_count": 48,
     "metadata": {},
     "output_type": "execute_result"
    }
   ],
   "source": [
    "n = 25  # number of candidates to test\n",
    "selected_candidates = random.sample(candidates, n)\n",
    "\n",
    "selected_candidates"
   ]
  },
  {
   "cell_type": "markdown",
   "metadata": {
    "id": "F5f_o_W-hhCw"
   },
   "source": [
    "Now loop through the candidate combinations and record their final accuracy scores:"
   ]
  },
  {
   "cell_type": "code",
   "execution_count": null,
   "metadata": {
    "colab": {
     "base_uri": "https://localhost:8080/"
    },
    "id": "eYk12LPKO6Qv",
    "outputId": "f9de2028-3950-434a-9686-5230a4f4b18b"
   },
   "outputs": [
    {
     "name": "stdout",
     "output_type": "stream",
     "text": [
      "Testing candidate 0\n",
      "Testing candidate 1\n",
      "Testing candidate 2\n",
      "Testing candidate 3\n",
      "Testing candidate 4\n",
      "Testing candidate 5\n",
      "Testing candidate 6\n",
      "Testing candidate 7\n",
      "Testing candidate 8\n",
      "Testing candidate 9\n",
      "Testing candidate 10\n",
      "Testing candidate 11\n",
      "Testing candidate 12\n",
      "Testing candidate 13\n",
      "Testing candidate 14\n",
      "Testing candidate 15\n",
      "Testing candidate 16\n",
      "Testing candidate 17\n",
      "Testing candidate 18\n",
      "Testing candidate 19\n",
      "Testing candidate 20\n",
      "Testing candidate 21\n",
      "Testing candidate 22\n",
      "Testing candidate 23\n",
      "Testing candidate 24\n"
     ]
    }
   ],
   "source": [
    "candidate_scores = [] #store scores\n",
    "counter = 0 #model counter\n",
    "\n",
    "#looping through candidates and storing scores\n",
    "for (d,h,l) in selected_candidates:\n",
    "  test_model = lstm_compile(h, l, d) #compile model using hyperparameter values\n",
    "  print(f'Testing candidate {counter}')\n",
    "  score = fit_and_evaluate(test_model, 32, opt_epochs) #fit using optimal number of epochs\n",
    "  candidate_scores.append((counter, score)) #store model accuracy score\n",
    "  counter += 1"
   ]
  },
  {
   "cell_type": "markdown",
   "metadata": {
    "id": "RcR1OqohkEZ0"
   },
   "source": [
    "Identifying the model with the best score:"
   ]
  },
  {
   "cell_type": "code",
   "execution_count": null,
   "metadata": {
    "colab": {
     "base_uri": "https://localhost:8080/"
    },
    "id": "ZIGIQRErQ6lV",
    "outputId": "04b8cdf8-993a-4725-8b82-4d89ff5193f8"
   },
   "outputs": [
    {
     "name": "stdout",
     "output_type": "stream",
     "text": [
      "The best hyperparameter combination is a drouput rate of 0.5, 512 hidden units, and 2 layers, giving a score of 0.3917677402496338\n"
     ]
    }
   ],
   "source": [
    "best_model = sorted(candidate_scores, key=lambda x: x[1], reverse=True)[0] #sort the list in descending order based on the score element\n",
    "best_counter = best_model[0] #get counter of best model\n",
    "best_combination = selected_candidates[best_counter] #get hyperparameter combination with best accuracy score\n",
    "print(f'The best hyperparameter combination is a drouput rate of {best_combination[0]}, {best_combination[1]} hidden units, and {best_combination[2]} layers, giving a score of {best_model[1]}')"
   ]
  },
  {
   "cell_type": "markdown",
   "metadata": {
    "id": "iCkLVQ-PIEHO"
   },
   "source": [
    "Th optimal combination of hyperparameters using a BiDirectional LSTM model is a dropout rate of 0.5, 512 hidden units it the first layer (gradually dropping), and 2 layers. \n",
    "\n",
    "The accuracy score on this combination is 39.2%, which is the same as the baseline RNN. Hence, despite the additional complexity, this LSTM does not perform better than the baseline model.  "
   ]
  },
  {
   "cell_type": "markdown",
   "metadata": {
    "id": "K1Q7c987KkP3"
   },
   "source": [
    "##**1D Convnet**"
   ]
  },
  {
   "cell_type": "markdown",
   "metadata": {
    "id": "Mv_xPmVplVnB"
   },
   "source": [
    "As a final test, I check whether a 1D convnet can outperform the tuned LSTM and the baseline RNN. a 1D convolutional layer applies a set of filters to the input sequence, which slide windows or kernels over the input and produces a set of feature maps. Each feature map represents a particular feature or pattern in the input sequence.\n",
    "\n",
    "\n",
    "I use an arbitrary kernel size of 5 and 16 filters. Thus, each window in the convolutional layer sees 5 tokens."
   ]
  },
  {
   "cell_type": "code",
   "execution_count": null,
   "metadata": {
    "colab": {
     "base_uri": "https://localhost:8080/"
    },
    "id": "o1-i-047KjnW",
    "outputId": "231230e3-eb16-48d9-9148-86527b83f51d"
   },
   "outputs": [
    {
     "name": "stdout",
     "output_type": "stream",
     "text": [
      "86/86 [==============================] - 0s 4ms/step - loss: 2.0323 - sparse_categorical_accuracy: 0.3355\n"
     ]
    },
    {
     "data": {
      "text/plain": [
       "[2.0322842597961426, 0.33553841710090637]"
      ]
     },
     "execution_count": 51,
     "metadata": {},
     "output_type": "execute_result"
    }
   ],
   "source": [
    "#setting up the 1D convnet\n",
    "model_conv = Sequential()\n",
    "model_conv.add(Embedding(max_words, embedding_dim, input_length=maxlen))\n",
    "model_conv.add(Conv1D(filters = 16, kernel_size = 5))\n",
    "model_conv.add(Flatten())\n",
    "model_conv.add(Dropout(0.5))\n",
    "model_conv.add(Dense(4, activation='softmax'))\n",
    "\n",
    "model_conv.layers[0].set_weights([embedding_matrix])\n",
    "model_conv.layers[0].trainable = False\n",
    "\n",
    "#compile\n",
    "model_conv.compile(optimizer='rmsprop',\n",
    "            loss='sparse_categorical_crossentropy',\n",
    "            metrics=['sparse_categorical_accuracy'])\n",
    "\n",
    "#fit and evaluate\n",
    "model_conv_train = model_conv.fit(X_train, y_train,\n",
    "                    epochs=opt_epochs,\n",
    "                    batch_size=32,\n",
    "                    validation_split=0.10, \n",
    "                    class_weight=class_weights,\n",
    "                    verbose = 0)\n",
    "\n",
    "#evaluate\n",
    "model_conv.evaluate(X_test, y_test)"
   ]
  },
  {
   "cell_type": "markdown",
   "metadata": {
    "id": "zYgtNmA5l1q9"
   },
   "source": [
    "The 1D convnet performs worse than the baseline and the tuned LSTM, giving an accuracy of only 33.6%. However, the convnet hasn't been tuned, as with the LSTM, so this is quite a decent performance. Improvements could be made, such as by adding layers, filters, or changing the kernel size."
   ]
  },
  {
   "cell_type": "markdown",
   "metadata": {
    "id": "5Jyrp39qmEG_"
   },
   "source": [
    "##**Conclusion**"
   ]
  },
  {
   "cell_type": "markdown",
   "metadata": {
    "id": "LB9ECAgCZc2C"
   },
   "source": [
    "In this coursework I attempted a single-label, multi-class classification problem using deep learning.  I trained and tuned an LSTM model using a combination of hyperparameters for the dropout rate, the number of hidden units, and the number of layers. Despite this tuning and additional complexity, the resulting model performed only as good as the simple RNN baseline model. A 1D convnet was also tested (though not tuned), and performed worse than both models. \n",
    "\n",
    "Naturally, there are a number of further improvements that could be made to the LSTM model. There are other hyperparameters which could be tuned, such as the learning rate, batch size, and the number of dense layers. Due to computation limitations, I was unable to test more hyperparameter combinations.\n",
    "\n",
    "Furthermore, one could test different vocabulary and sequence sizes, as different input versions may have an effect on the model. The text data could be cleaned further, such as by removing words that appear in a large majority of the samples. Finally, the training data could be improved through methods such as data augmentation, or by using different word embeddings."
   ]
  },
  {
   "cell_type": "markdown",
   "metadata": {
    "id": "VQBg_0Fu0U16"
   },
   "source": [
    "### **<u>References</u>**\n",
    "\n",
    "#### **Websites**\n",
    "https://www.kaggle.com/datasets/saurabhshahane/ecommerce-text-classification\n",
    "\n",
    "https://nlp.stanford.edu/projects/glove/\n",
    "\n",
    "https://www.kaggle.com/code/sugataghosh/e-commerce-text-classification-tf-idf-word2vec#TF-IDF-Model\n",
    "\n",
    "https://www.kaggle.com/code/naifislam/ecommerce-text-classification-bert\n",
    "\n",
    "https://towardsdatascience.com/how-to-split-a-tensorflow-dataset-into-train-validation-and-test-sets-526c8dd29438\n",
    "\n",
    "#### **Other Material**\n",
    "Chollet, F (2018). *Deep Learning with Python*. Manning Publications Co. ISBN 9781617294433\n",
    "\n",
    "Neural Networks (DSM150-2022-OCT) - lectures & notebooks. University of London."
   ]
  },
  {
   "cell_type": "code",
   "execution_count": null,
   "metadata": {
    "id": "T_K1G3dpEsJb"
   },
   "outputs": [],
   "source": []
  }
 ],
 "metadata": {
  "colab": {
   "provenance": []
  },
  "gpuClass": "standard",
  "kernelspec": {
   "display_name": "Python 3",
   "language": "python",
   "name": "python3"
  },
  "language_info": {
   "codemirror_mode": {
    "name": "ipython",
    "version": 3
   },
   "file_extension": ".py",
   "mimetype": "text/x-python",
   "name": "python",
   "nbconvert_exporter": "python",
   "pygments_lexer": "ipython3",
   "version": "3.8.5"
  },
  "varInspector": {
   "cols": {
    "lenName": 16,
    "lenType": 16,
    "lenVar": 40
   },
   "kernels_config": {
    "python": {
     "delete_cmd_postfix": "",
     "delete_cmd_prefix": "del ",
     "library": "var_list.py",
     "varRefreshCmd": "print(var_dic_list())"
    },
    "r": {
     "delete_cmd_postfix": ") ",
     "delete_cmd_prefix": "rm(",
     "library": "var_list.r",
     "varRefreshCmd": "cat(var_dic_list()) "
    }
   },
   "types_to_exclude": [
    "module",
    "function",
    "builtin_function_or_method",
    "instance",
    "_Feature"
   ],
   "window_display": false
  }
 },
 "nbformat": 4,
 "nbformat_minor": 1
}
